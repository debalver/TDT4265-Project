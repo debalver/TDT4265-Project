{
 "cells": [
  {
   "cell_type": "code",
   "execution_count": 1,
   "metadata": {},
   "outputs": [],
   "source": [
    "%load_ext autoreload"
   ]
  },
  {
   "cell_type": "code",
   "execution_count": 2,
   "metadata": {},
   "outputs": [],
   "source": [
    "%autoreload \n",
    "import logging\n",
    "import os\n",
    "import pathlib\n",
    "import torch\n",
    "from ssd.engine.inference import do_evaluation\n",
    "from ssd.config.defaults import cfg\n",
    "from ssd.utils.logger import setup_logger\n",
    "from train import start_train"
   ]
  },
  {
   "cell_type": "code",
   "execution_count": 3,
   "metadata": {},
   "outputs": [
    {
     "name": "stdout",
     "output_type": "stream",
     "text": [
      "2020-04-09 12:10:53,034 SSD INFO: Loaded configuration file configs/resnet_waymo.yaml\n",
      "2020-04-09 12:10:53,036 SSD INFO: \n",
      "MODEL:\n",
      "    NUM_CLASSES: 5\n",
      "    BACKBONE:\n",
      "        NAME: 'resnet'\n",
      "        PRETRAINED: True\n",
      "        #TODO: check whether output fetures are correct for resnet 34\n",
      "        OUT_CHANNELS: [512, 1024, 1024, 1024, 2048, 2048]\n",
      "        INPUT_CHANNELS: 3\n",
      "    PRIORS:\n",
      "        FEATURE_MAPS: [[38,38], [19,19], [19,19], [19,19], [10,10], [1,1]]\n",
      "        STRIDES: [[8,8], [16,16], [16,16], [16,16], [32,30], [320, 240]]\n",
      "INPUT:\n",
      "    IMAGE_SIZE: [300, 300]\n",
      "DATASETS:\n",
      "    TRAIN: (\"waymo_train\",)\n",
      "    TEST: (\"waymo_val\", )\n",
      "SOLVER:\n",
      "    MAX_ITER: 120000\n",
      "    LR_STEPS: [80000, 100000]\n",
      "    GAMMA: 0.1\n",
      "    BATCH_SIZE: 16\n",
      "    LR: 5e-3\n",
      "OUTPUT_DIR: 'outputs/resnet'\n",
      "DATASET_DIR: \"datasets\"\n",
      "2020-04-09 12:10:53,038 SSD INFO: Running with config:\n",
      "DATASETS:\n",
      "  TEST: ('waymo_val',)\n",
      "  TRAIN: ('waymo_train',)\n",
      "DATASET_DIR: datasets\n",
      "DATA_LOADER:\n",
      "  NUM_WORKERS: 4\n",
      "  PIN_MEMORY: True\n",
      "EVAL_STEP: 500\n",
      "INPUT:\n",
      "  IMAGE_SIZE: [300, 300]\n",
      "  PIXEL_MEAN: [123, 117, 104]\n",
      "LOG_STEP: 10\n",
      "MODEL:\n",
      "  BACKBONE:\n",
      "    INPUT_CHANNELS: 3\n",
      "    NAME: resnet\n",
      "    OUT_CHANNELS: (512, 1024, 1024, 1024, 2048, 2048)\n",
      "    PRETRAINED: True\n",
      "  BOX_HEAD:\n",
      "    NAME: SSDBoxHead\n",
      "    PREDICTOR: SSDBoxPredictor\n",
      "  CENTER_VARIANCE: 0.1\n",
      "  META_ARCHITECTURE: SSDDetector\n",
      "  NEG_POS_RATIO: 3\n",
      "  NUM_CLASSES: 5\n",
      "  PRIORS:\n",
      "    ASPECT_RATIOS: [[2], [2, 3], [2, 3], [2, 3], [2], [2]]\n",
      "    BOXES_PER_LOCATION: [4, 6, 6, 6, 4, 4]\n",
      "    CLIP: True\n",
      "    FEATURE_MAPS: [[38, 38], [19, 19], [19, 19], [19, 19], [10, 10], [1, 1]]\n",
      "    MAX_SIZES: [60, 111, 162, 213, 264, 315]\n",
      "    MIN_SIZES: [30, 60, 111, 162, 213, 264]\n",
      "    STRIDES: [[8, 8], [16, 16], [16, 16], [16, 16], [32, 30], [320, 240]]\n",
      "  SIZE_VARIANCE: 0.2\n",
      "  THRESHOLD: 0.5\n",
      "MODEL_SAVE_STEP: 500\n",
      "OUTPUT_DIR: outputs/resnet\n",
      "SOLVER:\n",
      "  BATCH_SIZE: 16\n",
      "  GAMMA: 0.1\n",
      "  LR: 0.005\n",
      "  LR_STEPS: [80000, 100000]\n",
      "  MAX_ITER: 120000\n",
      "  MOMENTUM: 0.9\n",
      "  WARMUP_FACTOR: 0.3333333333333333\n",
      "  WARMUP_ITERS: 500\n",
      "  WEIGHT_DECAY: 0.0005\n",
      "TEST:\n",
      "  BATCH_SIZE: 10\n",
      "  CONFIDENCE_THRESHOLD: 0.01\n",
      "  MAX_PER_CLASS: -1\n",
      "  MAX_PER_IMAGE: 100\n",
      "  NMS_THRESHOLD: 0.45\n"
     ]
    }
   ],
   "source": [
    "config_file = \"configs/resnet_waymo.yaml\"\n",
    "\n",
    "cfg.merge_from_file(config_file)\n",
    "cfg.freeze()\n",
    "output_dir = pathlib.Path(cfg.OUTPUT_DIR)\n",
    "output_dir.mkdir(exist_ok=True, parents=True)\n",
    "\n",
    "logger = setup_logger(\"SSD\", output_dir)\n",
    "\n",
    "logger.info(\"Loaded configuration file {}\".format(config_file))\n",
    "with open(config_file, \"r\") as cf:\n",
    "    config_str = \"\\n\" + cf.read()\n",
    "    logger.info(config_str)\n",
    "logger.info(\"Running with config:\\n{}\".format(cfg))\n"
   ]
  },
  {
   "cell_type": "code",
   "execution_count": null,
   "metadata": {},
   "outputs": [
    {
     "name": "stdout",
     "output_type": "stream",
     "text": [
      "resnet\n",
      "Detector initialized. Total Number of params:  28.54M\n",
      "Backbone number of parameters: 25.56M\n",
      "SSD Head number of parameters: 2.99M\n",
      "2020-04-09 12:10:57,543 SSD.trainer INFO: No checkpoint found.\n",
      "17936\n",
      "Dataset loaded. Subset: train, number of images: 14348\n",
      "2020-04-09 12:10:59,695 SSD.trainer INFO: Start training ...\n",
      "2020-04-09 12:11:09,437 SSD.trainer INFO: iter: 000010, lr: 0.00173, total_loss: 13.994 (13.994), reg_loss: 6.171 (6.171), cls_loss: 7.824 (7.824), time: 0.974 (0.974), eta: 1 day, 8:27:06, mem: 7016M\n",
      "2020-04-09 12:11:12,559 SSD.trainer INFO: iter: 000020, lr: 0.00180, total_loss: 11.397 (12.696), reg_loss: 5.567 (5.869), cls_loss: 5.831 (6.827), time: 0.312 (0.643), eta: 21:25:36, mem: 7016M\n",
      "2020-04-09 12:11:15,735 SSD.trainer INFO: iter: 000030, lr: 0.00187, total_loss: 9.983 (11.791), reg_loss: 5.071 (5.603), cls_loss: 4.911 (6.188), time: 0.318 (0.534), eta: 17:48:42, mem: 7016M\n",
      "2020-04-09 12:11:18,876 SSD.trainer INFO: iter: 000040, lr: 0.00193, total_loss: 8.705 (11.020), reg_loss: 4.741 (5.388), cls_loss: 3.964 (5.632), time: 0.314 (0.479), eta: 15:58:27, mem: 7016M\n",
      "2020-04-09 12:11:22,056 SSD.trainer INFO: iter: 000050, lr: 0.00200, total_loss: 8.046 (10.425), reg_loss: 4.552 (5.220), cls_loss: 3.494 (5.205), time: 0.318 (0.447), eta: 14:53:50, mem: 7016M\n",
      "2020-04-09 12:11:25,225 SSD.trainer INFO: iter: 000060, lr: 0.00207, total_loss: 7.625 (9.958), reg_loss: 4.557 (5.110), cls_loss: 3.067 (4.848), time: 0.317 (0.425), eta: 14:10:22, mem: 7016M\n",
      "2020-04-09 12:11:28,363 SSD.trainer INFO: iter: 000070, lr: 0.00213, total_loss: 7.244 (9.571), reg_loss: 4.328 (4.998), cls_loss: 2.916 (4.572), time: 0.314 (0.409), eta: 13:38:26, mem: 7016M\n",
      "2020-04-09 12:11:31,540 SSD.trainer INFO: iter: 000080, lr: 0.00220, total_loss: 6.899 (9.237), reg_loss: 4.103 (4.886), cls_loss: 2.795 (4.350), time: 0.318 (0.398), eta: 13:15:27, mem: 7016M\n"
     ]
    }
   ],
   "source": [
    "model = start_train(cfg)"
   ]
  },
  {
   "cell_type": "markdown",
   "metadata": {},
   "source": [
    "###### "
   ]
  }
 ],
 "metadata": {
  "kernelspec": {
   "display_name": "Python 3",
   "language": "python",
   "name": "python3"
  },
  "language_info": {
   "codemirror_mode": {
    "name": "ipython",
    "version": 3
   },
   "file_extension": ".py",
   "mimetype": "text/x-python",
   "name": "python",
   "nbconvert_exporter": "python",
   "pygments_lexer": "ipython3",
   "version": "3.6.9"
  }
 },
 "nbformat": 4,
 "nbformat_minor": 4
}
